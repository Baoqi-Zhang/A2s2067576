{
 "cells": [
  {
   "cell_type": "markdown",
   "metadata": {},
   "source": [
    "# Assignment A2 [40 marks]\n",
    "\n"
   ]
  },
  {
   "cell_type": "markdown",
   "metadata": {},
   "source": [
    "The assignment consists of 3 exercises. Each exercise may contain coding and/or discussion questions.\n",
    "- Type your **code** in the **code cells** provided below each question.\n",
    "- For **discussion** questions, use the **Markdown cells** provided below each question, indicated by 📝. Double-click these cells to edit them, and run them to display your Markdown-formatted text. Please refer to the Week 1 tutorial notebook for Markdown syntax.\n",
    "\n",
    "---"
   ]
  },
  {
   "cell_type": "markdown",
   "metadata": {},
   "source": [
    "# Question 1: Quadrature [16 marks]\n",
    "\n",
    "In the course, we have seen Newton-Cotes interpolatory quadrature rules, which have the particular property that they use equally-spaced nodes. Other types of quadrature rules also exist.\n",
    "\n",
    "In this question, we will consider quadrature rules with $N$ nodes, where the nodes $x_k$ are defined as the Chebyshev nodes, i.e.\n",
    "\n",
    "$$\n",
    "x_k = \\cos\\left(\\frac{(2k-1)\\pi}{2N}\\right), \\quad\n",
    "k=1, \\dots, N.\n",
    "$$\n",
    "\n",
    "**1.1** Write a function `cheb_nodes()` which takes 1 input argument, a strictly positive integer `N`, and returns a NumPy vector of length $N$ containing the $N$ Chebyshev nodes, as defined above.\n",
    "\n",
    "**[2 marks]**"
   ]
  },
  {
   "cell_type": "code",
   "execution_count": 1,
   "metadata": {},
   "outputs": [
    {
     "name": "stdout",
     "output_type": "stream",
     "text": [
      "[ 8.66025404e-01  6.12323400e-17 -8.66025404e-01]\n"
     ]
    }
   ],
   "source": [
    "# Import numpy for use of np.arrange function\n",
    "import numpy as np\n",
    "    \n",
    "# Define the cheb_nodes function with 1 a strictly positive integer argument N    \n",
    "def cheb_nodes(N):\n",
    "    \n",
    "    # Create an array of k that contains elements/numbers starts from 1 to N. {eg. when N=2, k=[1,2]}\n",
    "    k = np.arange(1,N+1)\n",
    "    \n",
    "    return np.cos((2*k-1) / (2*N) * np.pi)\n",
    "\n",
    "# Test the function when N=3\n",
    "print(cheb_nodes(3))"
   ]
  },
  {
   "cell_type": "markdown",
   "metadata": {},
   "source": [
    "**1.2** Write a function `cheb_weights()` which takes 1 input argument, a strictly positive integer `N`, and returns a NumPy vector of length $N$ containing the **weights** $w_k$ associated with the interpolatory quadrature rule whose nodes are the $x_k$ as defined above.\n",
    "\n",
    "For testing: the weights for $N = 3$ are $\\left\\{\\frac{4}{9}, \\frac{10}{9}, \\frac{4}{9}\\right\\}$.\n",
    "\n",
    "**[6 marks]**"
   ]
  },
  {
   "cell_type": "code",
   "execution_count": 2,
   "metadata": {},
   "outputs": [
    {
     "name": "stdout",
     "output_type": "stream",
     "text": [
      "cheb_weights = [0.44444444 1.11111111 0.44444444]\n",
      "4/9,10/9,4/9 = [0.44444444, 1.11111111, 0.44444444]\n"
     ]
    }
   ],
   "source": [
    "# Using matrix thinking\n",
    "\n",
    "# import numpy as np and for use of np.linalg.solve to solve matrix equation\n",
    "def cheb_weights(N):\n",
    "    \n",
    "    # Set nodes for use of the following matrices a & b \n",
    "    x = cheb_nodes(N)\n",
    "    \n",
    "    # Create a matrix p with the elements of combination of x^0 ~ x^n-1\n",
    "    p = np.array([x**i for i in range(N)])\n",
    "    \n",
    "    # Create the matrix I represents the right-hand side of the matrix equation(the integral from 1 to -1 of the function x^(N))\n",
    "    I = np.array([(1/(i+1) - (1/(1+i)*(-1)**(i+1))) for i in range(N)])\n",
    "    \n",
    "    # Use function of linalg.solve to solve the matrix equation, and the results are the weights\n",
    "    w = np.linalg.solve(p,I)\n",
    "    \n",
    "    return w\n",
    "\n",
    "# Test of the function when N=3\n",
    "print('cheb_weights =',cheb_weights(3))\n",
    "print('4/9,10/9,4/9 =',[round(4/9,8),round(10/9,8),round(4/9,8)])   "
   ]
  },
  {
   "cell_type": "markdown",
   "metadata": {},
   "source": [
    "**1.3** Consider the following integral, with a known closed form:\n",
    "\n",
    "$$\n",
    "I = \\int_{-\\pi/4}^{\\pi/4}  \\frac{1}{\\cos^3(x)} \\ dx =  \\sqrt{2} + 2 \\text{ arctanh}\\left(\\tan\\left(\\frac{\\pi}{8}\\right)\\right).\n",
    "$$\n",
    "\n",
    "Test your quadrature rule by using it to approximate $I$ and compare the computed result to the exact value of the integral.\n",
    "\n",
    "(For $N = 3$, you should obtain an error of approximately $0.0627$.)\n",
    "\n",
    "**[3 marks]**"
   ]
  },
  {
   "cell_type": "code",
   "execution_count": 3,
   "metadata": {},
   "outputs": [
    {
     "name": "stdout",
     "output_type": "stream",
     "text": [
      "Approximation of I =  2.3582529398961056\n",
      "Exact value of I = 2.295587149392638\n",
      "Difference between exact integral and approximation =  0.06266579050346754\n"
     ]
    }
   ],
   "source": [
    "import numpy as np\n",
    "\n",
    "# Define the function inside the integral\n",
    "def f(x):\n",
    "    return 1/(np.cos(x)**3)\n",
    "\n",
    "# Define the interval, number of nodes\n",
    "a,b = -np.pi/4, np.pi/4\n",
    "N=3\n",
    "\n",
    "# Create the quadrature function to approximate the integral\n",
    "def quadrature(f, a, b, N):\n",
    "    \n",
    "        # Define the shifted and scaled nodes\n",
    "        yk = (b-a)* (cheb_nodes(N) + 1)/2  + a\n",
    "    \n",
    "        # Compute the weighted sum\n",
    "        I_approx = (b-a) * np.sum(cheb_weights(N) * f(yk))/2\n",
    "        # or we can run this: I_approx = (b-a)* np.dot(cheb_weights(N),f(yk))/2  \n",
    "        \n",
    "        return I_approx\n",
    "\n",
    "\n",
    "\n",
    "\n",
    "I_exact  = np.sqrt(2) + 2* np.arctanh(np.tan(np.pi/8))\n",
    "\n",
    "I_error = abs(quadrature(f, a, b, N) - I_exact)\n",
    "\n",
    "print('Approximation of I = ',quadrature(f,a,b, N))\n",
    "print('Exact value of I =', I_exact)\n",
    "print('Difference between exact integral and approximation = ',I_error)"
   ]
  },
  {
   "cell_type": "markdown",
   "metadata": {},
   "source": [
    "**1.4** Investigate the accuracy of the quadrature rules you obtain using your functions `cheb_nodes()` and `cheb_weights()` for a range of different values of $N$.\n",
    "\n",
    "Summarise and explain your results in a discussion of no more than 250 words.\n",
    "\n",
    "**[5 marks]**"
   ]
  },
  {
   "cell_type": "code",
   "execution_count": 6,
   "metadata": {},
   "outputs": [
    {
     "name": "stdout",
     "output_type": "stream",
     "text": [
      "N, error\n",
      "2 0.26480763916290107\n",
      "3 0.06266579050346754\n",
      "4 0.022143678939417377\n",
      "5 0.0035117676763718464\n",
      "6 0.0011604042516362156\n",
      "7 0.00017593702236595732\n",
      "8 6.683367619375602e-05\n",
      "9 1.0073354550055313e-05\n",
      "10 4.227866781114642e-06\n",
      "11 6.319884575667345e-07\n",
      "12 2.807154846351523e-07\n",
      "13 4.155316046805524e-08\n",
      "14 1.910781044500709e-08\n",
      "15 2.802710064031544e-09\n",
      "16 1.3194147996387073e-09\n",
      "17 1.9199353218368742e-10\n",
      "18 9.194245365051756e-11\n",
      "19 1.3286705069504023e-11\n",
      "20 6.445066702553959e-12\n",
      "21 9.263700917472306e-13\n",
      "22 4.53859172466764e-13\n",
      "23 6.439293542825908e-14\n",
      "24 3.197442310920451e-14\n",
      "25 4.440892098500626e-15\n",
      "26 2.220446049250313e-15\n",
      "27 4.440892098500626e-16\n",
      "28 1.3322676295501878e-15\n",
      "29 1.3322676295501878e-15\n",
      "30 4.440892098500626e-16\n",
      "31 4.440892098500626e-16\n",
      "32 0.0\n",
      "33 4.440892098500626e-16\n",
      "34 0.0\n",
      "35 4.440892098500626e-16\n",
      "36 4.440892098500626e-16\n",
      "37 4.440892098500626e-16\n",
      "38 4.440892098500626e-16\n",
      "39 4.440892098500626e-16\n",
      "40 4.440892098500626e-16\n",
      "41 0.0\n",
      "42 8.881784197001252e-16\n",
      "43 0.0\n",
      "44 8.881784197001252e-16\n",
      "45 4.440892098500626e-16\n",
      "46 8.881784197001252e-16\n",
      "47 0.0\n",
      "48 4.440892098500626e-16\n",
      "49 2.220446049250313e-15\n",
      "50 4.440892098500626e-16\n",
      "50 4.440892098500626e-16\n",
      "51 1.212363542890671e-13\n",
      "52 1.3322676295501878e-15\n",
      "53 3.552713678800501e-15\n",
      "54 8.881784197001252e-16\n",
      "55 1.5987211554602254e-14\n",
      "56 6.217248937900877e-15\n",
      "57 2.220446049250313e-15\n",
      "58 4.440892098500626e-15\n",
      "59 5.329070518200751e-15\n",
      "60 2.220446049250313e-15\n",
      "61 4.884981308350689e-15\n",
      "62 3.552713678800501e-15\n",
      "63 1.3322676295501878e-15\n",
      "64 1.7763568394002505e-15\n",
      "65 3.552713678800501e-15\n",
      "66 5.329070518200751e-15\n",
      "67 4.884981308350689e-15\n",
      "68 0.0\n",
      "69 8.881784197001252e-16\n",
      "70 0.0\n",
      "71 5.595524044110789e-14\n",
      "72 1.3322676295501878e-15\n",
      "73 2.220446049250313e-15\n",
      "74 2.220446049250313e-15\n",
      "75 1.6431300764452317e-14\n",
      "76 7.549516567451064e-15\n",
      "77 5.329070518200751e-15\n",
      "78 3.459454944731988e-13\n",
      "79 6.217248937900877e-15\n",
      "80 1.3322676295501878e-15\n",
      "81 8.43769498715119e-15\n",
      "82 2.220446049250313e-15\n",
      "83 6.217248937900877e-15\n",
      "84 3.197442310920451e-14\n",
      "85 1.5987211554602254e-14\n",
      "86 2.1316282072803006e-14\n",
      "87 1.7763568394002505e-15\n",
      "88 3.1086244689504383e-15\n",
      "89 2.220446049250313e-15\n",
      "90 6.661338147750939e-15\n",
      "91 3.9968028886505635e-15\n",
      "92 2.1760371282653068e-14\n",
      "93 3.9968028886505635e-15\n",
      "94 2.6645352591003757e-15\n",
      "95 2.3092638912203256e-14\n",
      "96 1.3322676295501878e-15\n",
      "97 9.325873406851315e-15\n",
      "98 8.881784197001252e-16\n",
      "99 7.105427357601002e-15\n",
      "100 2.6645352591003757e-15\n"
     ]
    },
    {
     "data": {
      "image/png": "[encoded data removed]",
      "text/plain": [
       "<Figure size 720x720 with 2 Axes>"
      ]
     },
     "metadata": {
      "needs_background": "light"
     },
     "output_type": "display_data"
    }
   ],
   "source": [
    "# import matplotlib.pyplot for use of plotting the graph\n",
    "%matplotlib inline\n",
    "import matplotlib.pyplot as plt\n",
    "\n",
    "# Set Ns as an array with number from(2,50)\n",
    "Ns = np.array(range(2, 51))\n",
    "# Set Ns as an array with number from(50,100)\n",
    "Ms = np.array(range(50,101))\n",
    "\n",
    "# Set I as an array with approximations from N=2 to N=50 of the integral\n",
    "I = np.array([quadrature(f, a, b, N)for N in Ns])\n",
    "# Set I_2 as an array with approximations from N=50 to N=100 of the integral\n",
    "I_2 = np.array([quadrature(f, a, b, N)for N in Ms])\n",
    "\n",
    "# Define errors between I and the exact integral\n",
    "errors_1 = np.abs(I-I_exact)\n",
    "\n",
    "# Define errors between I_2 and the exact integral\n",
    "errors_2 = np.abs(I_2-I_exact)\n",
    "\n",
    "# print the title of the following two columns' values\n",
    "print('N, error')\n",
    "\n",
    "# Presents the number of nodes and errors in two columns from Ns,errors_1 & Ms,errors_2\n",
    "for N,e in zip(Ns, errors_1):\n",
    "    print(N,e)\n",
    "    \n",
    "for N,e in zip(Ms, errors_2):\n",
    "    print(N,e)\n",
    "    \n",
    "# Plot subplots to create 2 graphs in two rows respectively\n",
    "fig, ax = plt.subplots(2,1,figsize=(10, 10))\n",
    "\n",
    "ax[0].plot(Ns,errors_1,'k-')\n",
    "ax[0].set_xlabel('Number of nodes', fontsize=10)\n",
    "ax[0].set_ylabel('Magnitude of error', fontsize=10)\n",
    "ax[0].set_title('How error varies with the number of nodes', fontsize=14)\n",
    "ax[1].plot(Ms,errors_2,'b-')\n",
    "ax[1].set_ylim(0,4e-13)\n",
    "ax[1].set_xlabel('Number of nodes', fontsize=10)\n",
    "ax[1].set_ylabel('Magnitude of error', fontsize=10)\n",
    "ax[1].set_title('How error varies with the number of nodes', fontsize=14)\n",
    "\n",
    "plt.show()"
   ]
  },
  {
   "cell_type": "markdown",
   "metadata": {},
   "source": [
    "***📝 Discussion for question 1.4***\n",
    "\n",
    "According to the first grapgh, we can see that the magnitude of error decreases shaply in the N-interval 2 to 5. Then its trend shows convergence to us. At first, it did make me quite believe that the the error will converge until the end, however, when I increase the scale of the grapgh and soar the number of nodes into the function, the plot shows obvious fluctuations in the interval between 50 and 100. This phenomenon is called 'Runge's phenomenon', which is is the problem of oscillation at the edges of an interval that occurs when using polynomial interpolation with polynomials of high degree over a set of equispaced interpolation points. The reasons are that the magnitude of the n-th order derivatives of this particular function grows quickly when n increases and the equidistance between points leads to a Lebesgue constant that increases quickly when n increases.The phenomenon is graphically obvious because both properties combine to increase the magnitude of the oscillations.The phenomenon is graphically obvious because both properties combine to increase the magnitude of the oscillations.\n"
   ]
  },
  {
   "cell_type": "markdown",
   "metadata": {},
   "source": [
    "---\n",
    "# Question 2: Numerical differentiation [10 marks]\n"
   ]
  },
  {
   "cell_type": "markdown",
   "metadata": {},
   "source": [
    "Consider a finite difference approximation \n",
    "\n",
    "$$\n",
    "F' \\left( x \\right) \\approx D \\left( x \\right) = \\frac{1}{\\Delta x} \\left[ -\\frac{1}{8} F \\left( x - 2\\Delta x \\right) -\\frac{3}{4} F \\left( x \\right) + F \\left( x + \\Delta x \\right) - \\frac{1}{8} F \\left( x + 2 \\Delta x \\right) \\right].\n",
    "$$\n",
    "\n",
    "By considering the derivative of the function $F \\left( x \\right) = \\sin x$ at $x = 1$, perform numerical experiments to investigate the accuracy of this approximation. Your code should generate appropriate output and/or figures to illustrate the results.\n",
    "\n",
    "Confirm your results analytically. (You can either use the Markdown cell below, or submit a PDF of your handwriting if you prefer.)\n",
    "\n",
    "**[10 marks]**"
   ]
  },
  {
   "cell_type": "code",
   "execution_count": 10,
   "metadata": {},
   "outputs": [
    {
     "data": {
      "image/png": "[encoded data removed]",
      "text/plain": [
       "<Figure size 576x576 with 1 Axes>"
      ]
     },
     "metadata": {
      "needs_background": "light"
     },
     "output_type": "display_data"
    },
    {
     "name": "stdout",
     "output_type": "stream",
     "text": [
      "the order should be greater or equal than 2, since the graph does not show a straight line\n"
     ]
    }
   ],
   "source": [
    "import numpy as np\n",
    "import matplotlib.pyplot as plt\n",
    "\n",
    "# Define the given function\n",
    "def F(x):\n",
    "    return np.sin(x)\n",
    "\n",
    "# Define the derivative of the given function\n",
    "def F_derivative(x):\n",
    "    return np.cos(x)\n",
    "\n",
    "# Set value of x\n",
    "x0 = 1\n",
    "\n",
    "# Compute delta x in an array with 50 samll values\n",
    "dx = np.ones(100)/20\n",
    "\n",
    "\n",
    "# Create a loop for i from i=0 to i=99\n",
    "for i in range(100):\n",
    "    \n",
    "    # When i is not equal to 0, the next delta x should be smaller than the previous one\n",
    "    if i !=0:\n",
    "        \n",
    "        dx[i]=dx[i-1]/1.1\n",
    "\n",
    "# Define finite difference approximation\n",
    "def D(x):\n",
    "    \n",
    "    # Compute the given right-hand side approximation\n",
    "    F_approximation = 1/dx * ((-1/8) * F(x- 2 * dx) - (3/4) * F(x) + F(x + dx) - 1/8 * F(x + 2 * dx))\n",
    "    \n",
    "    return F_approximation\n",
    "\n",
    "\n",
    "# Compute the error between the apprpoximation and the exact.\n",
    "F_error = np.abs(D(x0) - F_derivative(x0))\n",
    "\n",
    "# Plot one figure\n",
    "fig, ax = plt.subplots(1,1,figsize=(8,8))\n",
    "\n",
    "# Set limits for dx and F_error\n",
    "ax.set_xlim(0,0.03)\n",
    "ax.set_ylim(0,0.00010)\n",
    "\n",
    "# Plot error against delta x\n",
    "ax.plot(dx, F_error, \"bx\")\n",
    "\n",
    "# Label the plot\n",
    "ax.set(xlabel=\"$\\\\Delta x$\", ylabel=\"error magnitude\", title=\"Accuracy\")\n",
    "\n",
    "\n",
    "\n",
    "plt.show()\n",
    "\n",
    "\n",
    "print('the order should be greater or equal than 2, since the graph does not show a straight line')\n",
    "\n",
    " "
   ]
  },
  {
   "cell_type": "markdown",
   "metadata": {},
   "source": [
    "***📝 Question 2***\n",
    "\n",
    "Test if the order of accuracy is 2:\n",
    "\n",
    "$$\n",
    "\\begin{align}\n",
    "D(x)\\ is\\ kth\\ order\\ accurate\\ when,\\ for\\ small\\ enough\\ \\Delta x,\\ D(x) - F^m(x)\\ = O(Δx^k)\n",
    "\\end{align}\n",
    "$$\n",
    "\n",
    "$$\n",
    "\\begin{align}\n",
    "F(x0-2\\Delta x) &= F(x0)-2\\Delta xF'(x0)+2\\Delta x^2F''(x0)-\\frac{4}{3}\\Delta x^3F'''(x0)+ O(Δx^4) \\\\\n",
    "F(x0+2\\Delta x) &= F(x0)+2\\Delta xF'(x0)+2\\Delta x^2F''(x0)+\\frac{4}{3}\\Delta x^3F'''(x0)+ O(Δx^4) \\\\\n",
    "F(x0+\\Delta x) &= F(x0)+\\Delta xF'(x0)+\\frac{1}{2}\\Delta x^2F''(x0)+\\frac{1}{6}\\Delta x^3F'''(x0)+ O(Δx^4) \\\\\n",
    "F(x0) &= F(x0) \\\\\n",
    "\\end{align}\n",
    "$$\n",
    "\n",
    "Adding these 4 terms:\n",
    "$$\n",
    "D(x0)=F'(x0)+\\frac{1}{6}\\Delta x^2F'''(x0) + O(Δx^3) \\\\\n",
    "since\\ \\frac{1}{6}\\Delta x^2F'''(x0)\\  dominates\\  the\\  error,  order\\ of\\ accuracy\\ is\\ indeed\\ 2.\\\\\n",
    "$$\n",
    "\n",
    "so the error is\n",
    "$$\n",
    "|F'(x0)-D(x0)|\\le \\frac{\\Delta x^2}{6} N, \\quad N\\ge \\max_{|x-x0|\\le \\Delta x}|F'''(x)|\n",
    "$$"
   ]
  },
  {
   "cell_type": "markdown",
   "metadata": {},
   "source": [
    "---\n",
    "# Question 3: Root finding [14 marks]\n",
    "\n",
    "Consider the function\n",
    "\n",
    "$$\n",
    "  F \\left( x \\right) = \\ln x - x + 4.\n",
    "$$\n",
    "\n",
    "**3.1** Plot the function over the interval $x \\in (0, 10]$.\n",
    "\n",
    "**[2 marks]**"
   ]
  },
  {
   "cell_type": "code",
   "execution_count": 116,
   "metadata": {},
   "outputs": [
    {
     "data": {
      "image/png": "[encoded data removed]",
      "text/plain": [
       "<Figure size 720x504 with 1 Axes>"
      ]
     },
     "metadata": {
      "needs_background": "light"
     },
     "output_type": "display_data"
    }
   ],
   "source": [
    "# Import numpy and pyplot for use of linspace and plotting the graph\n",
    "import numpy as np\n",
    "import matplotlib.pyplot as plt\n",
    "\n",
    "# define the known function needed to be plotted\n",
    "def F(x):\n",
    "    return np.log(x) - x + 4\n",
    "\n",
    "# Create an x-axis with 100 points\n",
    "x = np.linspace(0.1,10,100)\n",
    "\n",
    "# Draw a single figure with controlled size\n",
    "fig, ax = plt.subplots(1, 1, figsize=(10, 4))\n",
    "\n",
    "\n",
    "# Create the plot and display it\n",
    "handle,= ax.plot(x,F(x),'b-')\n",
    "\n",
    "# Create y-axis and x-axis labels for the plot\n",
    "ax.set_ylabel(r'$F(x)$', fontsize=20)\n",
    "ax.set_xlabel(r'$x$',fontsize=20)\n",
    "fig.set_size_inches(10,7)\n",
    "ax.text(3.5, 2, 'function of the line: lnx - x + 4', fontsize = 22)\n",
    "\n",
    "# Plot the line F(x) = 0\n",
    "ax.axhline(0.0, color=[0.7, 0.7, 0.7])\n",
    "\n",
    "# Plot the graph\n",
    "plt.show()"
   ]
  },
  {
   "cell_type": "markdown",
   "metadata": {},
   "source": [
    "**3.2** Find the root of $F$ in the interval $[4, 8]$, using 2 different methods: a bracketing method of your choice, and Newton's method.\n",
    "\n",
    "**[4 marks]**"
   ]
  },
  {
   "cell_type": "code",
   "execution_count": 4,
   "metadata": {},
   "outputs": [
    {
     "name": "stdout",
     "output_type": "stream",
     "text": [
      "Root finding use bisection method = 5.7490313860127\n",
      "Root finding using Newton method =  5.749031386012701\n"
     ]
    }
   ],
   "source": [
    "# Bisection method\n",
    "\n",
    "# Define F(x)\n",
    "def F(x):\n",
    "    return np.log(x)-x+4\n",
    "\n",
    "# Define derivative of F(x)\n",
    "def F_der(x):\n",
    "    return 1/x-1\n",
    "\n",
    "# Set Tolerence value\n",
    "tolerence_value = 1e-14\n",
    "tol = tolerence_value\n",
    "\n",
    "# Set value of a & b\n",
    "a, b = 4, 8\n",
    "\n",
    "# if b-a is greater than the tolerence value, x equals mid point of b & a\n",
    "while b-a > tol:\n",
    "    x = (a+b)/2\n",
    "    fx = F(x)\n",
    "    \n",
    "    # if F(a) & F(x) have same sign, the root is in [x,b]\n",
    "    if F(a)*F(x) >= 0:\n",
    "        a = x\n",
    "    \n",
    "    else:\n",
    "        # if F(b) & F(x) have same sign, root is in [a,x]\n",
    "        assert F(b)*F(x) >= 0\n",
    "        b = x\n",
    "\n",
    "print('Root finding use bisection method =', (a+b)/2)\n",
    "\n",
    "\n",
    "# Newton's method\n",
    "def Fp(x):\n",
    "    return 1/x - 1\n",
    "\n",
    "def G(x):\n",
    "    return x - F(x)/Fp(x)\n",
    "\n",
    "for x0 in [4,8]:\n",
    "    \n",
    "    # Initial guess\n",
    "    x = x0\n",
    "    \n",
    "    # Loop until convergence\n",
    "    while True:\n",
    "        x_new = G(x)\n",
    "        \n",
    "        # Convergence achieved\n",
    "        if abs(x_new - x) < tol:\n",
    "            \n",
    "            break\n",
    "        \n",
    "        # Update for next iteration\n",
    "        x = x_new\n",
    "    \n",
    "# Display the value of the root\n",
    "print('Root finding using Newton method = ', x_new)\n",
    "\n",
    "\n",
    "    \n",
    "    "
   ]
  },
  {
   "cell_type": "markdown",
   "metadata": {},
   "source": [
    "**3.3** Consider a third method to find this root, defined as the fixed-point iteration\n",
    "\n",
    "$$\n",
    "  x_n = G \\left( x_{n - 1} \\right) \\textrm{ for } n = 1, 2, \\ldots,\n",
    "$$\n",
    "\n",
    "with iteration function\n",
    "\n",
    "$$\n",
    "  G \\left( x \\right) = \\alpha \\left( \\ln x - x + 4 \\right) + x,\n",
    "$$\n",
    "\n",
    "where $\\alpha$ is a real parameter to be specified.\n",
    "\n",
    "Using an initial guess $x_0 = 5$, use this fixed-point iteration to seek the root, considering different values of $\\alpha \\in \\left[ 1, 5 \\right]$.\n",
    "\n",
    "Discuss and explain the convergence properties of this fixed-point iteration. Your code should generate appropriate output and/or figures to illustrate the results and to support your discussion.\n",
    "\n",
    "You can use the Markdown cell below for discussion, or submit a PDF of your handwriting if you prefer.\n",
    "\n",
    "**[8 marks]**"
   ]
  },
  {
   "cell_type": "code",
   "execution_count": 8,
   "metadata": {},
   "outputs": [
    {
     "name": "stdout",
     "output_type": "stream",
     "text": [
      "x = 5\n",
      "x = 5.6094379124341005\n",
      "x = 5.724450520652851\n",
      "x = 5.744746565908765\n",
      "x = 5.748285796473674\n",
      "x = 5.748901688009552\n",
      "x = 5.749008825783429\n",
      "x = 5.749027461825822\n"
     ]
    },
    {
     "data": {
      "image/png": "[encoded data removed]",
      "text/plain": [
       "<Figure size 432x288 with 1 Axes>"
      ]
     },
     "metadata": {
      "needs_background": "light"
     },
     "output_type": "display_data"
    },
    {
     "name": "stdout",
     "output_type": "stream",
     "text": [
      "x = 5\n",
      "x = 6.218875824868201\n",
      "x = 5.436302484861226\n",
      "x = 5.949895794120428\n",
      "x = 5.616851617501508\n",
      "x = 5.834690975538761\n",
      "x = 5.692951632152649\n",
      "x = 5.785506075671129\n",
      "x = 5.725205599306062\n",
      "x = 5.764551323369951\n",
      "x = 5.738903322635601\n",
      "x = 5.755632943970672\n",
      "x = 5.744725091434234\n",
      "x = 5.751839025286121\n",
      "x = 5.74720024303175\n",
      "x = 5.7502254009135925\n",
      "x = 5.748252707486085\n",
      "x = 5.749539155854633\n",
      "x = 5.748700253724252\n",
      "x = 5.749247319130074\n",
      "x = 5.748890571310158\n",
      "x = 5.749123212836192\n",
      "x = 5.748971504080089\n",
      "x = 5.749070435829273\n",
      "x = 5.749005920983317\n",
      "x = 5.74904799212862\n",
      "x = 5.7490205569019235\n",
      "x = 5.749038447838089\n",
      "x = 5.749026780886739\n"
     ]
    },
    {
     "data": {
      "image/png": "[encoded data removed]",
      "text/plain": [
       "<Figure size 432x288 with 1 Axes>"
      ]
     },
     "metadata": {
      "needs_background": "light"
     },
     "output_type": "display_data"
    },
    {
     "name": "stdout",
     "output_type": "stream",
     "text": [
      "x = 5\n",
      "x = 6.8283137373023015\n",
      "x = 4.106605782940056\n",
      "x = 8.024578965353644\n",
      "x = 2.198369676082402\n",
      "x = 9.966408735795557\n",
      "x = -1.0351565354649992\n",
      "CAN'T CONVEGE!!!\n"
     ]
    },
    {
     "name": "stderr",
     "output_type": "stream",
     "text": [
      "/var/folders/70/q6366zfd2l99m4dbknv7067c0000gn/T/ipykernel_50817/936426769.py:10: RuntimeWarning: invalid value encountered in log\n",
      "  return ALPHA * (np.log(x) - x + 4) + x\n"
     ]
    },
    {
     "data": {
      "image/png": "[encoded data removed]",
      "text/plain": [
       "<Figure size 432x288 with 1 Axes>"
      ]
     },
     "metadata": {
      "needs_background": "light"
     },
     "output_type": "display_data"
    },
    {
     "name": "stdout",
     "output_type": "stream",
     "text": [
      "x = 5\n",
      "x = 7.437751649736402\n",
      "x = 1.713019473022893\n",
      "x = 13.013971929197586\n",
      "x = -12.777821611189305\n",
      "CAN'T CONVEGE!!!\n"
     ]
    },
    {
     "data": {
      "image/png": "[encoded data removed]",
      "text/plain": [
       "<Figure size 432x288 with 1 Axes>"
      ]
     },
     "metadata": {
      "needs_background": "light"
     },
     "output_type": "display_data"
    },
    {
     "name": "stdout",
     "output_type": "stream",
     "text": [
      "x = 5\n",
      "x = 8.047189562170502\n",
      "x = -1.7621437098759536\n",
      "CAN'T CONVEGE!!!\n"
     ]
    },
    {
     "data": {
      "image/png": "[encoded data removed]",
      "text/plain": [
       "<Figure size 432x288 with 1 Axes>"
      ]
     },
     "metadata": {
      "needs_background": "light"
     },
     "output_type": "display_data"
    }
   ],
   "source": [
    "from cmath import isnan\n",
    "import numpy as np\n",
    "import matplotlib.pyplot as plt\n",
    "\n",
    "ALPHA = 1\n",
    "\n",
    "# function to be solved\n",
    "def G(x):\n",
    "    \n",
    "    return ALPHA * (np.log(x) - x + 4) + x\n",
    "\n",
    "# try alpha from 1 to 5\n",
    "for ALPHA in range(1,6):\n",
    "    x = 5\n",
    "    x_prev = 5\n",
    "    xs = []\n",
    "    it = 0\n",
    "    # start iteration\n",
    "    while it<1e4 :\n",
    "        if isnan(x): # x out of valid range\n",
    "            print(\"CAN'T CONVEGE!!!\")\n",
    "            break\n",
    "        x_prev = x\n",
    "        it += 1\n",
    "        print(\"x =\", x)\n",
    "        xs.append(x)\n",
    "        x = G(x)\n",
    "        if abs(x - x_prev) < 1e-5: # if converge\n",
    "            break\n",
    "    # plot x value\n",
    "    plt.plot([i for i in range(len(xs))], xs)\n",
    "    plt.xlabel('Iteration')\n",
    "    plt.ylabel('x value')\n",
    "    plt.show()\n",
    "\n",
    "\n",
    "\n",
    "\n",
    "\n",
    "\n",
    "\n",
    "\n",
    "\n"
   ]
  },
  {
   "cell_type": "markdown",
   "metadata": {},
   "source": [
    "***📝 Discussion for question 3.3***\n",
    "\n",
    "As we see in the above graphs, when alpha = 1,2 it converges and approach to the approximation of Newton and bisection method. However, when alpha = 3,4,5, it will not finally converge but diverge, because step size is too large and x goes out of the interval of convergence and even out of the valid range."
   ]
  },
  {
   "cell_type": "code",
   "execution_count": null,
   "metadata": {},
   "outputs": [],
   "source": []
  }
 ],
 "metadata": {
  "kernelspec": {
   "display_name": "Python 3 (ipykernel)",
   "language": "python",
   "name": "python3"
  },
  "language_info": {
   "codemirror_mode": {
    "name": "ipython",
    "version": 3
   },
   "file_extension": ".py",
   "mimetype": "text/x-python",
   "name": "python",
   "nbconvert_exporter": "python",
   "pygments_lexer": "ipython3",
   "version": "3.10.0"
  }
 },
 "nbformat": 4,
 "nbformat_minor": 4
}
